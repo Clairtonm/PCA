{
 "cells": [
  {
   "cell_type": "code",
   "execution_count": 24,
   "metadata": {},
   "outputs": [],
   "source": [
    "import pandas as pd\n",
    "import numpy as np\n",
    "import sklearn as skl\n",
    "from sklearn.decomposition import PCA\n",
    "from sklearn.preprocessing import StandardScaler\n",
    "from sklearn.neighbors import KNeighborsClassifier\n",
    "from sklearn.model_selection import train_test_split\n",
    "from sklearn.metrics import accuracy_score\n",
    "from sklearn.impute import SimpleImputer"
   ]
  },
  {
   "cell_type": "code",
   "execution_count": 25,
   "metadata": {},
   "outputs": [
    {
     "data": {
      "text/plain": [
       "'0.20.0'"
      ]
     },
     "execution_count": 25,
     "metadata": {},
     "output_type": "execute_result"
    }
   ],
   "source": [
    "skl.__version__"
   ]
  },
  {
   "cell_type": "markdown",
   "metadata": {},
   "source": [
    "### Getting the data and the features names"
   ]
  },
  {
   "cell_type": "code",
   "execution_count": 26,
   "metadata": {},
   "outputs": [],
   "source": [
    "arrhythmia_raw = pd.read_csv('D:/Datasets/arrhythmia/arrhythmia_data.csv')"
   ]
  },
  {
   "cell_type": "code",
   "execution_count": 27,
   "metadata": {},
   "outputs": [],
   "source": [
    "features_txt = open('D:/Datasets/arrhythmia/features_raw.txt', 'r').read()"
   ]
  },
  {
   "cell_type": "code",
   "execution_count": 28,
   "metadata": {},
   "outputs": [],
   "source": [
    "features = features_txt.split(',')"
   ]
  },
  {
   "cell_type": "code",
   "execution_count": 29,
   "metadata": {},
   "outputs": [
    {
     "data": {
      "text/html": [
       "<div>\n",
       "<style scoped>\n",
       "    .dataframe tbody tr th:only-of-type {\n",
       "        vertical-align: middle;\n",
       "    }\n",
       "\n",
       "    .dataframe tbody tr th {\n",
       "        vertical-align: top;\n",
       "    }\n",
       "\n",
       "    .dataframe thead th {\n",
       "        text-align: right;\n",
       "    }\n",
       "</style>\n",
       "<table border=\"1\" class=\"dataframe\">\n",
       "  <thead>\n",
       "    <tr style=\"text-align: right;\">\n",
       "      <th></th>\n",
       "      <th>age</th>\n",
       "      <th>sex</th>\n",
       "      <th>height</th>\n",
       "      <th>weight</th>\n",
       "      <th>qrs_duration</th>\n",
       "      <th>pr_interval</th>\n",
       "      <th>qt_interval</th>\n",
       "      <th>t_interval</th>\n",
       "      <th>p_interval</th>\n",
       "      <th>vector_qrs</th>\n",
       "      <th>...</th>\n",
       "      <th>v6_applitude_q_wave</th>\n",
       "      <th>v6_applitude_r_wave</th>\n",
       "      <th>v6_applitude_s_wave</th>\n",
       "      <th>v6_applitude_r_sp_wave</th>\n",
       "      <th>v6_applitude_s_sp_wave</th>\n",
       "      <th>v6_applitude_p_wave</th>\n",
       "      <th>v6_applitude_t_wave</th>\n",
       "      <th>v6_qrsa</th>\n",
       "      <th>v6_qrsta</th>\n",
       "      <th>class</th>\n",
       "    </tr>\n",
       "  </thead>\n",
       "  <tbody>\n",
       "    <tr>\n",
       "      <th>count</th>\n",
       "      <td>452.000000</td>\n",
       "      <td>452.000000</td>\n",
       "      <td>452.000000</td>\n",
       "      <td>452.000000</td>\n",
       "      <td>452.000000</td>\n",
       "      <td>452.000000</td>\n",
       "      <td>452.000000</td>\n",
       "      <td>452.000000</td>\n",
       "      <td>452.000000</td>\n",
       "      <td>452.000000</td>\n",
       "      <td>...</td>\n",
       "      <td>452.000000</td>\n",
       "      <td>452.000000</td>\n",
       "      <td>452.000000</td>\n",
       "      <td>452.000000</td>\n",
       "      <td>452.0</td>\n",
       "      <td>452.000000</td>\n",
       "      <td>452.000000</td>\n",
       "      <td>452.000000</td>\n",
       "      <td>452.000000</td>\n",
       "      <td>452.000000</td>\n",
       "    </tr>\n",
       "    <tr>\n",
       "      <th>mean</th>\n",
       "      <td>46.471239</td>\n",
       "      <td>0.550885</td>\n",
       "      <td>166.188053</td>\n",
       "      <td>68.170354</td>\n",
       "      <td>88.920354</td>\n",
       "      <td>155.152655</td>\n",
       "      <td>367.207965</td>\n",
       "      <td>169.949115</td>\n",
       "      <td>90.004425</td>\n",
       "      <td>33.676991</td>\n",
       "      <td>...</td>\n",
       "      <td>-0.278982</td>\n",
       "      <td>9.048009</td>\n",
       "      <td>-1.457301</td>\n",
       "      <td>0.003982</td>\n",
       "      <td>0.0</td>\n",
       "      <td>0.514823</td>\n",
       "      <td>1.222345</td>\n",
       "      <td>19.326106</td>\n",
       "      <td>29.473230</td>\n",
       "      <td>3.880531</td>\n",
       "    </tr>\n",
       "    <tr>\n",
       "      <th>std</th>\n",
       "      <td>16.466631</td>\n",
       "      <td>0.497955</td>\n",
       "      <td>37.170340</td>\n",
       "      <td>16.590803</td>\n",
       "      <td>15.364394</td>\n",
       "      <td>44.842283</td>\n",
       "      <td>33.385421</td>\n",
       "      <td>35.633072</td>\n",
       "      <td>25.826643</td>\n",
       "      <td>45.431434</td>\n",
       "      <td>...</td>\n",
       "      <td>0.548876</td>\n",
       "      <td>3.472862</td>\n",
       "      <td>2.002430</td>\n",
       "      <td>0.050118</td>\n",
       "      <td>0.0</td>\n",
       "      <td>0.347531</td>\n",
       "      <td>1.426052</td>\n",
       "      <td>13.503922</td>\n",
       "      <td>18.493927</td>\n",
       "      <td>4.407097</td>\n",
       "    </tr>\n",
       "    <tr>\n",
       "      <th>min</th>\n",
       "      <td>0.000000</td>\n",
       "      <td>0.000000</td>\n",
       "      <td>105.000000</td>\n",
       "      <td>6.000000</td>\n",
       "      <td>55.000000</td>\n",
       "      <td>0.000000</td>\n",
       "      <td>232.000000</td>\n",
       "      <td>108.000000</td>\n",
       "      <td>0.000000</td>\n",
       "      <td>-172.000000</td>\n",
       "      <td>...</td>\n",
       "      <td>-4.100000</td>\n",
       "      <td>0.000000</td>\n",
       "      <td>-28.600000</td>\n",
       "      <td>0.000000</td>\n",
       "      <td>0.0</td>\n",
       "      <td>-0.800000</td>\n",
       "      <td>-6.000000</td>\n",
       "      <td>-44.200000</td>\n",
       "      <td>-38.600000</td>\n",
       "      <td>1.000000</td>\n",
       "    </tr>\n",
       "    <tr>\n",
       "      <th>25%</th>\n",
       "      <td>36.000000</td>\n",
       "      <td>0.000000</td>\n",
       "      <td>160.000000</td>\n",
       "      <td>59.000000</td>\n",
       "      <td>80.000000</td>\n",
       "      <td>142.000000</td>\n",
       "      <td>350.000000</td>\n",
       "      <td>148.000000</td>\n",
       "      <td>79.000000</td>\n",
       "      <td>3.750000</td>\n",
       "      <td>...</td>\n",
       "      <td>-0.425000</td>\n",
       "      <td>6.600000</td>\n",
       "      <td>-2.100000</td>\n",
       "      <td>0.000000</td>\n",
       "      <td>0.0</td>\n",
       "      <td>0.400000</td>\n",
       "      <td>0.500000</td>\n",
       "      <td>11.450000</td>\n",
       "      <td>17.550000</td>\n",
       "      <td>1.000000</td>\n",
       "    </tr>\n",
       "    <tr>\n",
       "      <th>50%</th>\n",
       "      <td>47.000000</td>\n",
       "      <td>1.000000</td>\n",
       "      <td>164.000000</td>\n",
       "      <td>68.000000</td>\n",
       "      <td>86.000000</td>\n",
       "      <td>157.000000</td>\n",
       "      <td>367.000000</td>\n",
       "      <td>162.000000</td>\n",
       "      <td>91.000000</td>\n",
       "      <td>40.000000</td>\n",
       "      <td>...</td>\n",
       "      <td>0.000000</td>\n",
       "      <td>8.800000</td>\n",
       "      <td>-1.100000</td>\n",
       "      <td>0.000000</td>\n",
       "      <td>0.0</td>\n",
       "      <td>0.500000</td>\n",
       "      <td>1.350000</td>\n",
       "      <td>18.100000</td>\n",
       "      <td>27.900000</td>\n",
       "      <td>1.000000</td>\n",
       "    </tr>\n",
       "    <tr>\n",
       "      <th>75%</th>\n",
       "      <td>58.000000</td>\n",
       "      <td>1.000000</td>\n",
       "      <td>170.000000</td>\n",
       "      <td>79.000000</td>\n",
       "      <td>94.000000</td>\n",
       "      <td>175.000000</td>\n",
       "      <td>384.000000</td>\n",
       "      <td>179.000000</td>\n",
       "      <td>102.000000</td>\n",
       "      <td>66.000000</td>\n",
       "      <td>...</td>\n",
       "      <td>0.000000</td>\n",
       "      <td>11.200000</td>\n",
       "      <td>0.000000</td>\n",
       "      <td>0.000000</td>\n",
       "      <td>0.0</td>\n",
       "      <td>0.700000</td>\n",
       "      <td>2.100000</td>\n",
       "      <td>25.825000</td>\n",
       "      <td>41.125000</td>\n",
       "      <td>6.000000</td>\n",
       "    </tr>\n",
       "    <tr>\n",
       "      <th>max</th>\n",
       "      <td>83.000000</td>\n",
       "      <td>1.000000</td>\n",
       "      <td>780.000000</td>\n",
       "      <td>176.000000</td>\n",
       "      <td>188.000000</td>\n",
       "      <td>524.000000</td>\n",
       "      <td>509.000000</td>\n",
       "      <td>381.000000</td>\n",
       "      <td>205.000000</td>\n",
       "      <td>169.000000</td>\n",
       "      <td>...</td>\n",
       "      <td>0.000000</td>\n",
       "      <td>23.600000</td>\n",
       "      <td>0.000000</td>\n",
       "      <td>0.800000</td>\n",
       "      <td>0.0</td>\n",
       "      <td>2.400000</td>\n",
       "      <td>6.000000</td>\n",
       "      <td>88.800000</td>\n",
       "      <td>115.900000</td>\n",
       "      <td>16.000000</td>\n",
       "    </tr>\n",
       "  </tbody>\n",
       "</table>\n",
       "<p>8 rows × 275 columns</p>\n",
       "</div>"
      ],
      "text/plain": [
       "              age         sex      height      weight  qrs_duration  \\\n",
       "count  452.000000  452.000000  452.000000  452.000000    452.000000   \n",
       "mean    46.471239    0.550885  166.188053   68.170354     88.920354   \n",
       "std     16.466631    0.497955   37.170340   16.590803     15.364394   \n",
       "min      0.000000    0.000000  105.000000    6.000000     55.000000   \n",
       "25%     36.000000    0.000000  160.000000   59.000000     80.000000   \n",
       "50%     47.000000    1.000000  164.000000   68.000000     86.000000   \n",
       "75%     58.000000    1.000000  170.000000   79.000000     94.000000   \n",
       "max     83.000000    1.000000  780.000000  176.000000    188.000000   \n",
       "\n",
       "       pr_interval  qt_interval  t_interval  p_interval  vector_qrs  \\\n",
       "count   452.000000   452.000000  452.000000  452.000000  452.000000   \n",
       "mean    155.152655   367.207965  169.949115   90.004425   33.676991   \n",
       "std      44.842283    33.385421   35.633072   25.826643   45.431434   \n",
       "min       0.000000   232.000000  108.000000    0.000000 -172.000000   \n",
       "25%     142.000000   350.000000  148.000000   79.000000    3.750000   \n",
       "50%     157.000000   367.000000  162.000000   91.000000   40.000000   \n",
       "75%     175.000000   384.000000  179.000000  102.000000   66.000000   \n",
       "max     524.000000   509.000000  381.000000  205.000000  169.000000   \n",
       "\n",
       "          ...      v6_applitude_q_wave  v6_applitude_r_wave  \\\n",
       "count     ...               452.000000           452.000000   \n",
       "mean      ...                -0.278982             9.048009   \n",
       "std       ...                 0.548876             3.472862   \n",
       "min       ...                -4.100000             0.000000   \n",
       "25%       ...                -0.425000             6.600000   \n",
       "50%       ...                 0.000000             8.800000   \n",
       "75%       ...                 0.000000            11.200000   \n",
       "max       ...                 0.000000            23.600000   \n",
       "\n",
       "       v6_applitude_s_wave  v6_applitude_r_sp_wave  v6_applitude_s_sp_wave  \\\n",
       "count           452.000000              452.000000                   452.0   \n",
       "mean             -1.457301                0.003982                     0.0   \n",
       "std               2.002430                0.050118                     0.0   \n",
       "min             -28.600000                0.000000                     0.0   \n",
       "25%              -2.100000                0.000000                     0.0   \n",
       "50%              -1.100000                0.000000                     0.0   \n",
       "75%               0.000000                0.000000                     0.0   \n",
       "max               0.000000                0.800000                     0.0   \n",
       "\n",
       "       v6_applitude_p_wave  v6_applitude_t_wave     v6_qrsa    v6_qrsta  \\\n",
       "count           452.000000           452.000000  452.000000  452.000000   \n",
       "mean              0.514823             1.222345   19.326106   29.473230   \n",
       "std               0.347531             1.426052   13.503922   18.493927   \n",
       "min              -0.800000            -6.000000  -44.200000  -38.600000   \n",
       "25%               0.400000             0.500000   11.450000   17.550000   \n",
       "50%               0.500000             1.350000   18.100000   27.900000   \n",
       "75%               0.700000             2.100000   25.825000   41.125000   \n",
       "max               2.400000             6.000000   88.800000  115.900000   \n",
       "\n",
       "            class  \n",
       "count  452.000000  \n",
       "mean     3.880531  \n",
       "std      4.407097  \n",
       "min      1.000000  \n",
       "25%      1.000000  \n",
       "50%      1.000000  \n",
       "75%      6.000000  \n",
       "max     16.000000  \n",
       "\n",
       "[8 rows x 275 columns]"
      ]
     },
     "execution_count": 29,
     "metadata": {},
     "output_type": "execute_result"
    }
   ],
   "source": [
    "arrhythmia_raw.describe()"
   ]
  },
  {
   "cell_type": "code",
   "execution_count": 30,
   "metadata": {},
   "outputs": [
    {
     "name": "stdout",
     "output_type": "stream",
     "text": [
      "<class 'pandas.core.frame.DataFrame'>\n",
      "RangeIndex: 452 entries, 0 to 451\n",
      "Columns: 280 entries, age to class\n",
      "dtypes: float64(120), int64(155), object(5)\n",
      "memory usage: 988.8+ KB\n"
     ]
    }
   ],
   "source": [
    "arrhythmia_raw.info()"
   ]
  },
  {
   "cell_type": "markdown",
   "metadata": {},
   "source": [
    "### Describes of the classes"
   ]
  },
  {
   "cell_type": "code",
   "execution_count": 31,
   "metadata": {},
   "outputs": [],
   "source": [
    "classes = arrhythmia_raw['class']"
   ]
  },
  {
   "cell_type": "code",
   "execution_count": 32,
   "metadata": {},
   "outputs": [],
   "source": [
    "classes_unique = classes.unique()"
   ]
  },
  {
   "cell_type": "code",
   "execution_count": 33,
   "metadata": {},
   "outputs": [],
   "source": [
    "classes_unique = classes_unique.tolist()"
   ]
  },
  {
   "cell_type": "code",
   "execution_count": 34,
   "metadata": {},
   "outputs": [
    {
     "data": {
      "text/plain": [
       "[8, 6, 10, 1, 7, 14, 3, 16, 2, 4, 5, 9, 15]"
      ]
     },
     "execution_count": 34,
     "metadata": {},
     "output_type": "execute_result"
    }
   ],
   "source": [
    "classes_unique"
   ]
  },
  {
   "cell_type": "code",
   "execution_count": 35,
   "metadata": {},
   "outputs": [],
   "source": [
    "dataframes = []"
   ]
  },
  {
   "cell_type": "code",
   "execution_count": 36,
   "metadata": {},
   "outputs": [],
   "source": [
    "for _class in classes_unique:\n",
    "    dataframes.append(arrhythmia_raw.loc[arrhythmia_raw['class'] == _class])"
   ]
  },
  {
   "cell_type": "code",
   "execution_count": 37,
   "metadata": {},
   "outputs": [
    {
     "data": {
      "text/plain": [
       "13"
      ]
     },
     "execution_count": 37,
     "metadata": {},
     "output_type": "execute_result"
    }
   ],
   "source": [
    "len(classes_unique)"
   ]
  },
  {
   "cell_type": "code",
   "execution_count": 38,
   "metadata": {},
   "outputs": [
    {
     "data": {
      "text/plain": [
       "13"
      ]
     },
     "execution_count": 38,
     "metadata": {},
     "output_type": "execute_result"
    }
   ],
   "source": [
    "len(dataframes)"
   ]
  },
  {
   "cell_type": "code",
   "execution_count": 39,
   "metadata": {},
   "outputs": [],
   "source": [
    "describes = {}"
   ]
  },
  {
   "cell_type": "code",
   "execution_count": 40,
   "metadata": {},
   "outputs": [],
   "source": [
    "new_dataframes = []"
   ]
  },
  {
   "cell_type": "code",
   "execution_count": 41,
   "metadata": {},
   "outputs": [],
   "source": [
    "imp = SimpleImputer(missing_values='?', strategy='mean', copy=False)"
   ]
  },
  {
   "cell_type": "code",
   "execution_count": 48,
   "metadata": {},
   "outputs": [
    {
     "name": "stdout",
     "output_type": "stream",
     "text": [
      "<class 'pandas.core.frame.DataFrame'>\n",
      "<class 'pandas.core.frame.DataFrame'>\n",
      "<class 'pandas.core.frame.DataFrame'>\n",
      "<class 'pandas.core.frame.DataFrame'>\n",
      "<class 'pandas.core.frame.DataFrame'>\n",
      "<class 'pandas.core.frame.DataFrame'>\n",
      "<class 'pandas.core.frame.DataFrame'>\n",
      "<class 'pandas.core.frame.DataFrame'>\n",
      "<class 'pandas.core.frame.DataFrame'>\n",
      "<class 'pandas.core.frame.DataFrame'>\n",
      "<class 'pandas.core.frame.DataFrame'>\n",
      "<class 'pandas.core.frame.DataFrame'>\n",
      "<class 'pandas.core.frame.DataFrame'>\n"
     ]
    }
   ],
   "source": [
    "for dataframe in dataframes:\n",
    "    class_list = dataframe['class'].unique()\n",
    "    class_list[0]\n",
    "    #print(class_list[0])\n",
    "    #describes[class_list[0]] = dataframe.mean()\n",
    "    dataframe.head()\n",
    "    #imp.fit(dataframe)\n",
    "    #imp.transform(dataframe)"
   ]
  },
  {
   "cell_type": "code",
   "execution_count": 154,
   "metadata": {},
   "outputs": [
    {
     "name": "stdout",
     "output_type": "stream",
     "text": [
      "16 age                             4.427273e+01\n",
      "sex                             3.181818e-01\n",
      "height                          1.650000e+02\n",
      "weight                          6.813636e+01\n",
      "qrs_duration                    9.213636e+01\n",
      "pr_interval                     1.619091e+02\n",
      "qt_interval                     3.650909e+02\n",
      "t_interval                      1.733182e+02\n",
      "p_interval                      8.959091e+01\n",
      "vector_qrs                      4.427273e+01\n",
      "heart_rate                      2.892999e+43\n",
      "di_q_wave                       6.000000e+00\n",
      "di_r_wave                       5.036364e+01\n",
      "di_s_wave                       2.363636e+01\n",
      "di_r_sp_wave                    1.090909e+00\n",
      "di_s_sp_wave                    0.000000e+00\n",
      "di_intrisic_deflections         2.927273e+01\n",
      "di_existence_ragged_r_wave      0.000000e+00\n",
      "di_existence_diphasic_r_wave    0.000000e+00\n",
      "di_existence_ragged_p_wave      0.000000e+00\n",
      "di_existence_diphasic_p_wave    0.000000e+00\n",
      "di_existence_ragged_t_wave      0.000000e+00\n",
      "di_existence_diphasic_t_wave    0.000000e+00\n",
      "dii_q_wave                      5.272727e+00\n",
      "dii_r_wave                      5.781818e+01\n",
      "qii_s_wave                      1.636364e+01\n",
      "dii_r_sp_wave                   0.000000e+00\n",
      "dii_s_sp_wave                   0.000000e+00\n",
      "dii_intrisic_deflections        3.181818e+01\n",
      "dii_existence_ragged_r_wave     4.545455e-02\n",
      "                                    ...     \n",
      "v4_applitude_q_wave            -1.454545e-01\n",
      "v4_applitude_r_wave             1.352273e+01\n",
      "v4_applitude_s_wave            -9.036364e+00\n",
      "v4_applitude_r_sp_wave          1.818182e-02\n",
      "v4_applitude_s_sp_wave          0.000000e+00\n",
      "v4_applitude_p_wave             5.318182e-01\n",
      "v4_applitude_t_wave             2.940909e+00\n",
      "v4_qrsa                         8.854545e+00\n",
      "v4_qrsta                        3.653636e+01\n",
      "v5_applitude_jj_wave           -1.727273e-01\n",
      "v5_applitude_q_wave            -1.063636e+00\n",
      "v5_applitude_r_wave             1.210909e+01\n",
      "v5_applitude_s_wave            -3.650000e+00\n",
      "v5_applitude_r_sp_wave          0.000000e+00\n",
      "v5_applitude_s_sp_wave          0.000000e+00\n",
      "v5_applitude_p_wave             5.272727e-01\n",
      "v5_applitude_t_wave             1.831818e+00\n",
      "v5_qrsa                         1.564545e+01\n",
      "v5_qrsta                        3.261818e+01\n",
      "v6_applitude_jj_wave           -2.409091e-01\n",
      "v6_applitude_q_wave            -5.590909e-01\n",
      "v6_applitude_r_wave             9.359091e+00\n",
      "v6_applitude_s_wave            -1.404545e+00\n",
      "v6_applitude_r_sp_wave          0.000000e+00\n",
      "v6_applitude_s_sp_wave          0.000000e+00\n",
      "v6_applitude_p_wave             5.227273e-01\n",
      "v6_applitude_t_wave             1.050000e+00\n",
      "v6_qrsa                         1.986364e+01\n",
      "v6_qrsta                        2.968182e+01\n",
      "class                           1.600000e+01\n",
      "Length: 276, dtype: float64\n",
      "1 age                              46.273469\n",
      "sex                               0.653061\n",
      "height                          164.102041\n",
      "weight                           68.669388\n",
      "qrs_duration                     84.277551\n",
      "pr_interval                     157.216327\n",
      "qt_interval                     367.200000\n",
      "t_interval                      162.918367\n",
      "p_interval                       92.232653\n",
      "vector_qrs                       36.787755\n",
      "heart_rate                             inf\n",
      "di_q_wave                         5.208163\n",
      "di_r_wave                        50.987755\n",
      "di_s_wave                        17.991837\n",
      "di_r_sp_wave                      0.065306\n",
      "di_s_sp_wave                      0.000000\n",
      "di_intrisic_deflections          29.093878\n",
      "di_existence_ragged_r_wave        0.000000\n",
      "di_existence_diphasic_r_wave      0.012245\n",
      "di_existence_ragged_p_wave        0.012245\n",
      "di_existence_diphasic_p_wave      0.000000\n",
      "di_existence_ragged_t_wave        0.000000\n",
      "di_existence_diphasic_t_wave      0.000000\n",
      "dii_q_wave                        4.767347\n",
      "dii_r_wave                       54.122449\n",
      "qii_s_wave                       16.946939\n",
      "dii_r_sp_wave                     0.391837\n",
      "dii_s_sp_wave                     0.000000\n",
      "dii_intrisic_deflections         30.693878\n",
      "dii_existence_ragged_r_wave       0.016327\n",
      "                                   ...    \n",
      "v4_applitude_q_wave              -0.061224\n",
      "v4_applitude_r_wave              11.668163\n",
      "v4_applitude_s_wave              -6.240816\n",
      "v4_applitude_r_sp_wave            0.014694\n",
      "v4_applitude_s_sp_wave           -0.001633\n",
      "v4_applitude_p_wave               0.569388\n",
      "v4_applitude_t_wave               2.802041\n",
      "v4_qrsa                          14.361633\n",
      "v4_qrsta                         39.427755\n",
      "v5_applitude_jj_wave             -0.216735\n",
      "v5_applitude_q_wave              -0.128980\n",
      "v5_applitude_r_wave              11.325306\n",
      "v5_applitude_s_wave              -3.261633\n",
      "v5_applitude_r_sp_wave            0.003265\n",
      "v5_applitude_s_sp_wave            0.000000\n",
      "v5_applitude_p_wave               0.555918\n",
      "v5_applitude_t_wave               2.061224\n",
      "v5_qrsa                          19.267347\n",
      "v5_qrsta                         37.082041\n",
      "v6_applitude_jj_wave             -0.215918\n",
      "v6_applitude_q_wave              -0.193469\n",
      "v6_applitude_r_wave               9.235510\n",
      "v6_applitude_s_wave              -1.245714\n",
      "v6_applitude_r_sp_wave            0.005306\n",
      "v6_applitude_s_sp_wave            0.000000\n",
      "v6_applitude_p_wave               0.522857\n",
      "v6_applitude_t_wave               1.597959\n",
      "v6_qrsa                          20.311429\n",
      "v6_qrsta                         33.836735\n",
      "class                             1.000000\n",
      "Length: 276, dtype: float64\n",
      "2 age                             5.175000e+01\n",
      "sex                             5.909091e-01\n",
      "height                          1.630682e+02\n",
      "weight                          7.336364e+01\n",
      "qrs_duration                    8.981818e+01\n",
      "pr_interval                     1.530227e+02\n",
      "qt_interval                     3.695682e+02\n",
      "t_interval                      1.907045e+02\n",
      "p_interval                      8.745455e+01\n",
      "vector_qrs                      2.995455e+01\n",
      "heart_rate                      1.811715e+88\n",
      "di_q_wave                       4.363636e+00\n",
      "di_r_wave                       5.236364e+01\n",
      "di_s_wave                       1.781818e+01\n",
      "di_r_sp_wave                    5.454545e-01\n",
      "di_s_sp_wave                    0.000000e+00\n",
      "di_intrisic_deflections         3.181818e+01\n",
      "di_existence_ragged_r_wave      2.272727e-02\n",
      "di_existence_diphasic_r_wave    0.000000e+00\n",
      "di_existence_ragged_p_wave      0.000000e+00\n",
      "di_existence_diphasic_p_wave    2.272727e-02\n",
      "di_existence_ragged_t_wave      0.000000e+00\n",
      "di_existence_diphasic_t_wave    0.000000e+00\n",
      "dii_q_wave                      7.363636e+00\n",
      "dii_r_wave                      5.536364e+01\n",
      "qii_s_wave                      1.745455e+01\n",
      "dii_r_sp_wave                   3.636364e-01\n",
      "dii_s_sp_wave                   0.000000e+00\n",
      "dii_intrisic_deflections        3.400000e+01\n",
      "dii_existence_ragged_r_wave     2.272727e-02\n",
      "                                    ...     \n",
      "v4_applitude_q_wave            -7.500000e-02\n",
      "v4_applitude_r_wave             1.332727e+01\n",
      "v4_applitude_s_wave            -9.300000e+00\n",
      "v4_applitude_r_sp_wave          5.454545e-02\n",
      "v4_applitude_s_sp_wave          0.000000e+00\n",
      "v4_applitude_p_wave             4.613636e-01\n",
      "v4_applitude_t_wave            -4.681818e-01\n",
      "v4_qrsa                         7.743182e+00\n",
      "v4_qrsta                        2.797727e+00\n",
      "v5_applitude_jj_wave           -9.750000e-01\n",
      "v5_applitude_q_wave            -2.022727e-01\n",
      "v5_applitude_r_wave             1.239545e+01\n",
      "v5_applitude_s_wave            -4.579545e+00\n",
      "v5_applitude_r_sp_wave          1.136364e-02\n",
      "v5_applitude_s_sp_wave          0.000000e+00\n",
      "v5_applitude_p_wave             5.159091e-01\n",
      "v5_applitude_t_wave            -7.772727e-01\n",
      "v5_qrsa                         1.830000e+01\n",
      "v5_qrsta                        1.029545e+01\n",
      "v6_applitude_jj_wave           -7.659091e-01\n",
      "v6_applitude_q_wave            -2.386364e-01\n",
      "v6_applitude_r_wave             9.718182e+00\n",
      "v6_applitude_s_wave            -1.902273e+00\n",
      "v6_applitude_r_sp_wave          0.000000e+00\n",
      "v6_applitude_s_sp_wave          0.000000e+00\n",
      "v6_applitude_p_wave             5.340909e-01\n",
      "v6_applitude_t_wave            -6.000000e-01\n",
      "v6_qrsa                         2.031364e+01\n",
      "v6_qrsta                        1.379545e+01\n",
      "class                           2.000000e+00\n",
      "Length: 276, dtype: float64\n",
      "3 age                             5.333333e+01\n",
      "sex                             0.000000e+00\n",
      "height                          1.706000e+02\n",
      "weight                          7.686667e+01\n",
      "qrs_duration                    9.333333e+01\n",
      "pr_interval                     1.632000e+02\n",
      "qt_interval                     3.554667e+02\n",
      "t_interval                      2.018000e+02\n",
      "p_interval                      9.840000e+01\n",
      "vector_qrs                      1.740000e+01\n",
      "heart_rate                      4.709138e+30\n",
      "di_q_wave                       2.160000e+01\n",
      "di_r_wave                       4.426667e+01\n",
      "di_s_wave                       1.600000e+01\n",
      "di_r_sp_wave                    0.000000e+00\n",
      "di_s_sp_wave                    0.000000e+00\n",
      "di_intrisic_deflections         3.600000e+01\n",
      "di_existence_ragged_r_wave      0.000000e+00\n",
      "di_existence_diphasic_r_wave    0.000000e+00\n",
      "di_existence_ragged_p_wave      6.666667e-02\n",
      "di_existence_diphasic_p_wave    0.000000e+00\n",
      "di_existence_ragged_t_wave      6.666667e-02\n",
      "di_existence_diphasic_t_wave    6.666667e-02\n",
      "dii_q_wave                      1.600000e+00\n",
      "dii_r_wave                      4.960000e+01\n",
      "qii_s_wave                      3.173333e+01\n",
      "dii_r_sp_wave                   0.000000e+00\n",
      "dii_s_sp_wave                   0.000000e+00\n",
      "dii_intrisic_deflections        2.746667e+01\n",
      "dii_existence_ragged_r_wave     0.000000e+00\n",
      "                                    ...     \n",
      "v4_applitude_q_wave            -5.993333e+00\n",
      "v4_applitude_r_wave             3.253333e+00\n",
      "v4_applitude_s_wave            -5.313333e+00\n",
      "v4_applitude_r_sp_wave          0.000000e+00\n",
      "v4_applitude_s_sp_wave          0.000000e+00\n",
      "v4_applitude_p_wave             6.933333e-01\n",
      "v4_applitude_t_wave             2.166667e+00\n",
      "v4_qrsa                        -3.162667e+01\n",
      "v4_qrsta                       -6.060000e+00\n",
      "v5_applitude_jj_wave            3.133333e-01\n",
      "v5_applitude_q_wave            -1.493333e+00\n",
      "v5_applitude_r_wave             5.600000e+00\n",
      "v5_applitude_s_wave            -4.560000e+00\n",
      "v5_applitude_r_sp_wave          0.000000e+00\n",
      "v5_applitude_s_sp_wave          0.000000e+00\n",
      "v5_applitude_p_wave             7.133333e-01\n",
      "v5_applitude_t_wave             1.306667e+00\n",
      "v5_qrsa                        -5.466667e+00\n",
      "v5_qrsta                        8.653333e+00\n",
      "v6_applitude_jj_wave           -6.000000e-02\n",
      "v6_applitude_q_wave            -5.333333e-01\n",
      "v6_applitude_r_wave             5.646667e+00\n",
      "v6_applitude_s_wave            -1.866667e+00\n",
      "v6_applitude_r_sp_wave          0.000000e+00\n",
      "v6_applitude_s_sp_wave          0.000000e+00\n",
      "v6_applitude_p_wave             6.533333e-01\n",
      "v6_applitude_t_wave             4.666667e-01\n",
      "v6_qrsa                         7.466667e+00\n",
      "v6_qrsta                        1.199333e+01\n",
      "class                           3.000000e+00\n",
      "Length: 276, dtype: float64\n",
      "4 age                             5.726667e+01\n",
      "sex                             2.666667e-01\n",
      "height                          1.660000e+02\n",
      "weight                          7.386667e+01\n",
      "qrs_duration                    8.986667e+01\n",
      "pr_interval                     1.604000e+02\n",
      "qt_interval                     3.521333e+02\n",
      "t_interval                      1.700000e+02\n",
      "p_interval                      9.400000e+01\n",
      "vector_qrs                      6.600000e+00\n",
      "vector_p                        4.771711e+28\n",
      "heart_rate                      5.393212e+28\n",
      "di_q_wave                       5.866667e+00\n",
      "di_r_wave                       5.066667e+01\n",
      "di_s_wave                       2.826667e+01\n",
      "di_r_sp_wave                    0.000000e+00\n",
      "di_s_sp_wave                    0.000000e+00\n",
      "di_intrisic_deflections         3.066667e+01\n",
      "di_existence_ragged_r_wave      0.000000e+00\n",
      "di_existence_diphasic_r_wave    0.000000e+00\n",
      "di_existence_ragged_p_wave      0.000000e+00\n",
      "di_existence_diphasic_p_wave    0.000000e+00\n",
      "di_existence_ragged_t_wave      0.000000e+00\n",
      "di_existence_diphasic_t_wave    0.000000e+00\n",
      "dii_q_wave                      2.880000e+01\n",
      "dii_r_wave                      5.173333e+01\n",
      "qii_s_wave                      1.360000e+01\n",
      "dii_r_sp_wave                   0.000000e+00\n",
      "dii_s_sp_wave                   0.000000e+00\n",
      "dii_intrisic_deflections        4.480000e+01\n",
      "                                    ...     \n",
      "v4_applitude_q_wave            -3.333333e-02\n",
      "v4_applitude_r_wave             1.220667e+01\n",
      "v4_applitude_s_wave            -6.693333e+00\n",
      "v4_applitude_r_sp_wave          0.000000e+00\n",
      "v4_applitude_s_sp_wave          0.000000e+00\n",
      "v4_applitude_p_wave             7.400000e-01\n",
      "v4_applitude_t_wave             1.800000e+00\n",
      "v4_qrsa                         1.430000e+01\n",
      "v4_qrsta                        2.960667e+01\n",
      "v5_applitude_jj_wave           -3.666667e-01\n",
      "v5_applitude_q_wave            -4.466667e-01\n",
      "v5_applitude_r_wave             9.826667e+00\n",
      "v5_applitude_s_wave            -3.153333e+00\n",
      "v5_applitude_r_sp_wave          0.000000e+00\n",
      "v5_applitude_s_sp_wave          0.000000e+00\n",
      "v5_applitude_p_wave             7.466667e-01\n",
      "v5_applitude_t_wave             6.266667e-01\n",
      "v5_qrsa                         1.334667e+01\n",
      "v5_qrsta                        1.814000e+01\n",
      "v6_applitude_jj_wave           -1.866667e-01\n",
      "v6_applitude_q_wave            -9.466667e-01\n",
      "v6_applitude_r_wave             6.253333e+00\n",
      "v6_applitude_s_wave            -6.800000e-01\n",
      "v6_applitude_r_sp_wave          3.333333e-02\n",
      "v6_applitude_s_sp_wave          0.000000e+00\n",
      "v6_applitude_p_wave             6.933333e-01\n",
      "v6_applitude_t_wave             1.200000e-01\n",
      "v6_qrsa                         1.171333e+01\n",
      "v6_qrsta                        1.220667e+01\n",
      "class                           4.000000e+00\n",
      "Length: 277, dtype: float64\n",
      "5 age                             3.084615e+01\n",
      "sex                             6.923077e-01\n",
      "height                          2.336154e+02\n",
      "weight                          4.461538e+01\n",
      "qrs_duration                    8.800000e+01\n",
      "pr_interval                     1.582308e+02\n",
      "qt_interval                     2.980769e+02\n",
      "t_interval                      1.540000e+02\n",
      "p_interval                      8.576923e+01\n",
      "vector_qrs                      4.707692e+01\n",
      "heart_rate                      7.546532e+34\n",
      "di_q_wave                       4.307692e+00\n",
      "di_r_wave                       3.538462e+01\n",
      "di_s_wave                       3.446154e+01\n",
      "di_r_sp_wave                    0.000000e+00\n",
      "di_s_sp_wave                    0.000000e+00\n",
      "di_intrisic_deflections         2.307692e+01\n",
      "di_existence_ragged_r_wave      0.000000e+00\n",
      "di_existence_diphasic_r_wave    0.000000e+00\n",
      "di_existence_ragged_p_wave      0.000000e+00\n",
      "di_existence_diphasic_p_wave    0.000000e+00\n",
      "di_existence_ragged_t_wave      0.000000e+00\n",
      "di_existence_diphasic_t_wave    0.000000e+00\n",
      "dii_q_wave                      5.846154e+00\n",
      "dii_r_wave                      4.246154e+01\n",
      "qii_s_wave                      2.369231e+01\n",
      "dii_r_sp_wave                   3.076923e+00\n",
      "dii_s_sp_wave                   9.230769e-01\n",
      "dii_intrisic_deflections        2.646154e+01\n",
      "dii_existence_ragged_r_wave     0.000000e+00\n",
      "                                    ...     \n",
      "v4_applitude_q_wave            -1.153846e-01\n",
      "v4_applitude_r_wave             1.210769e+01\n",
      "v4_applitude_s_wave            -8.661538e+00\n",
      "v4_applitude_r_sp_wave          1.307692e-01\n",
      "v4_applitude_s_sp_wave          0.000000e+00\n",
      "v4_applitude_p_wave             6.076923e-01\n",
      "v4_applitude_t_wave             2.500000e+00\n",
      "v4_qrsa                         6.538462e-01\n",
      "v4_qrsta                        1.882308e+01\n",
      "v5_applitude_jj_wave            1.461538e-01\n",
      "v5_applitude_q_wave            -3.692308e-01\n",
      "v5_applitude_r_wave             9.676923e+00\n",
      "v5_applitude_s_wave            -5.607692e+00\n",
      "v5_applitude_r_sp_wave          0.000000e+00\n",
      "v5_applitude_s_sp_wave          0.000000e+00\n",
      "v5_applitude_p_wave             6.615385e-01\n",
      "v5_applitude_t_wave             1.923077e+00\n",
      "v5_qrsa                         4.930769e+00\n",
      "v5_qrsta                        1.883077e+01\n",
      "v6_applitude_jj_wave            1.384615e-01\n",
      "v6_applitude_q_wave            -3.153846e-01\n",
      "v6_applitude_r_wave             6.761538e+00\n",
      "v6_applitude_s_wave            -3.253846e+00\n",
      "v6_applitude_r_sp_wave          0.000000e+00\n",
      "v6_applitude_s_sp_wave          0.000000e+00\n",
      "v6_applitude_p_wave             6.076923e-01\n",
      "v6_applitude_t_wave             1.476923e+00\n",
      "v6_qrsa                         4.876923e+00\n",
      "v6_qrsta                        1.564615e+01\n",
      "class                           5.000000e+00\n",
      "Length: 276, dtype: float64\n",
      "6 age                             4.792000e+01\n",
      "sex                             4.400000e-01\n",
      "height                          1.650400e+02\n",
      "weight                          6.800000e+01\n",
      "qrs_duration                    8.316000e+01\n",
      "pr_interval                     1.579600e+02\n",
      "qt_interval                     3.932400e+02\n",
      "t_interval                      1.528800e+02\n",
      "p_interval                      8.000000e+01\n",
      "vector_qrs                      2.824000e+01\n",
      "heart_rate                      2.142606e+48\n",
      "di_q_wave                       3.200000e+00\n",
      "di_r_wave                       5.664000e+01\n",
      "di_s_wave                       1.488000e+01\n",
      "di_r_sp_wave                    0.000000e+00\n",
      "di_s_sp_wave                    0.000000e+00\n",
      "di_intrisic_deflections         2.928000e+01\n",
      "di_existence_ragged_r_wave      0.000000e+00\n",
      "di_existence_diphasic_r_wave    0.000000e+00\n",
      "di_existence_ragged_p_wave      4.000000e-02\n",
      "di_existence_diphasic_p_wave    0.000000e+00\n",
      "di_existence_ragged_t_wave      0.000000e+00\n",
      "di_existence_diphasic_t_wave    0.000000e+00\n",
      "dii_q_wave                      4.960000e+00\n",
      "dii_r_wave                      5.808000e+01\n",
      "qii_s_wave                      1.824000e+01\n",
      "dii_r_sp_wave                   0.000000e+00\n",
      "dii_s_sp_wave                   0.000000e+00\n",
      "dii_intrisic_deflections        2.912000e+01\n",
      "dii_existence_ragged_r_wave     0.000000e+00\n",
      "                                    ...     \n",
      "v4_applitude_q_wave            -3.200000e-02\n",
      "v4_applitude_r_wave             1.187200e+01\n",
      "v4_applitude_s_wave            -5.320000e+00\n",
      "v4_applitude_r_sp_wave          3.200000e-02\n",
      "v4_applitude_s_sp_wave          0.000000e+00\n",
      "v4_applitude_p_wave             5.440000e-01\n",
      "v4_applitude_t_wave             3.212000e+00\n",
      "v4_qrsa                         1.811600e+01\n",
      "v4_qrsta                        4.513200e+01\n",
      "v5_applitude_jj_wave           -4.560000e-01\n",
      "v5_applitude_q_wave            -1.560000e-01\n",
      "v5_applitude_r_wave             1.240800e+01\n",
      "v5_applitude_s_wave            -2.272000e+00\n",
      "v5_applitude_r_sp_wave          0.000000e+00\n",
      "v5_applitude_s_sp_wave          0.000000e+00\n",
      "v5_applitude_p_wave             5.080000e-01\n",
      "v5_applitude_t_wave             2.192000e+00\n",
      "v5_qrsa                         2.700400e+01\n",
      "v5_qrsta                        4.446800e+01\n",
      "v6_applitude_jj_wave           -3.880000e-01\n",
      "v6_applitude_q_wave            -1.520000e-01\n",
      "v6_applitude_r_wave             8.744000e+00\n",
      "v6_applitude_s_wave            -6.640000e-01\n",
      "v6_applitude_r_sp_wave          0.000000e+00\n",
      "v6_applitude_s_sp_wave          0.000000e+00\n",
      "v6_applitude_p_wave             4.040000e-01\n",
      "v6_applitude_t_wave             1.560000e+00\n",
      "v6_qrsa                         2.162400e+01\n",
      "v6_qrsta                        3.380400e+01\n",
      "class                           6.000000e+00\n",
      "Length: 276, dtype: float64\n",
      "8 age                               71.00\n",
      "sex                                0.00\n",
      "height                           176.50\n",
      "weight                            79.00\n",
      "qrs_duration                      98.50\n",
      "pr_interval                      183.00\n",
      "qt_interval                      368.00\n",
      "t_interval                       185.00\n",
      "p_interval                       101.50\n",
      "vector_qrs                       -44.50\n",
      "vector_t                        6554.00\n",
      "vector_p                        3215.50\n",
      "heart_rate                      3184.50\n",
      "di_q_wave                          0.00\n",
      "di_r_wave                         50.00\n",
      "di_s_wave                         22.00\n",
      "di_r_sp_wave                       0.00\n",
      "di_s_sp_wave                       0.00\n",
      "di_intrisic_deflections           24.00\n",
      "di_existence_ragged_r_wave         0.00\n",
      "di_existence_diphasic_r_wave       0.00\n",
      "di_existence_ragged_p_wave         0.00\n",
      "di_existence_diphasic_p_wave       0.00\n",
      "di_existence_ragged_t_wave         0.00\n",
      "di_existence_diphasic_t_wave       0.00\n",
      "dii_q_wave                         0.00\n",
      "dii_r_wave                        40.00\n",
      "qii_s_wave                        40.00\n",
      "dii_r_sp_wave                     18.00\n",
      "dii_s_sp_wave                      0.00\n",
      "                                 ...   \n",
      "v4_applitude_q_wave                0.00\n",
      "v4_applitude_r_wave               10.80\n",
      "v4_applitude_s_wave              -11.40\n",
      "v4_applitude_r_sp_wave             0.00\n",
      "v4_applitude_s_sp_wave             0.00\n",
      "v4_applitude_p_wave                0.85\n",
      "v4_applitude_t_wave                3.25\n",
      "v4_qrsa                           -7.15\n",
      "v4_qrsta                          26.90\n",
      "v5_applitude_jj_wave               0.15\n",
      "v5_applitude_q_wave                0.00\n",
      "v5_applitude_r_wave                9.70\n",
      "v5_applitude_s_wave               -7.25\n",
      "v5_applitude_r_sp_wave             0.00\n",
      "v5_applitude_s_sp_wave             0.00\n",
      "v5_applitude_p_wave                0.75\n",
      "v5_applitude_t_wave                2.55\n",
      "v5_qrsa                            3.45\n",
      "v5_qrsta                          28.95\n",
      "v6_applitude_jj_wave               0.10\n",
      "v6_applitude_q_wave                0.00\n",
      "v6_applitude_r_wave                6.60\n",
      "v6_applitude_s_wave               -3.65\n",
      "v6_applitude_r_sp_wave             0.00\n",
      "v6_applitude_s_sp_wave             0.00\n",
      "v6_applitude_p_wave                0.65\n",
      "v6_applitude_t_wave                1.85\n",
      "v6_qrsa                            5.65\n",
      "v6_qrsta                          23.65\n",
      "class                              8.00\n",
      "Length: 278, dtype: float64\n",
      "9 age                             5.822222e+01\n",
      "sex                             5.555556e-01\n",
      "height                          1.556667e+02\n",
      "weight                          6.644444e+01\n",
      "qrs_duration                    1.544444e+02\n",
      "pr_interval                     1.584444e+02\n",
      "qt_interval                     4.394444e+02\n",
      "t_interval                      2.636667e+02\n",
      "p_interval                      9.033333e+01\n",
      "vector_qrs                      1.277778e+01\n",
      "heart_rate                      8.070896e+16\n",
      "di_q_wave                       0.000000e+00\n",
      "di_r_wave                       1.297778e+02\n",
      "di_s_wave                       0.000000e+00\n",
      "di_r_sp_wave                    0.000000e+00\n",
      "di_s_sp_wave                    0.000000e+00\n",
      "di_intrisic_deflections         6.444444e+01\n",
      "di_existence_ragged_r_wave      0.000000e+00\n",
      "di_existence_diphasic_r_wave    2.222222e-01\n",
      "di_existence_ragged_p_wave      0.000000e+00\n",
      "di_existence_diphasic_p_wave    0.000000e+00\n",
      "di_existence_ragged_t_wave      1.111111e-01\n",
      "di_existence_diphasic_t_wave    2.222222e-01\n",
      "dii_q_wave                      0.000000e+00\n",
      "dii_r_wave                      1.026667e+02\n",
      "qii_s_wave                      3.644444e+01\n",
      "dii_r_sp_wave                   0.000000e+00\n",
      "dii_s_sp_wave                   0.000000e+00\n",
      "dii_intrisic_deflections        5.377778e+01\n",
      "dii_existence_ragged_r_wave     0.000000e+00\n",
      "                                    ...     \n",
      "v4_applitude_q_wave             0.000000e+00\n",
      "v4_applitude_r_wave             3.888889e+00\n",
      "v4_applitude_s_wave            -1.386667e+01\n",
      "v4_applitude_r_sp_wave          0.000000e+00\n",
      "v4_applitude_s_sp_wave          0.000000e+00\n",
      "v4_applitude_p_wave             4.555556e-01\n",
      "v4_applitude_t_wave             4.655556e+00\n",
      "v4_qrsa                        -5.415556e+01\n",
      "v4_qrsta                        9.155556e+00\n",
      "v5_applitude_jj_wave           -6.222222e-01\n",
      "v5_applitude_q_wave             0.000000e+00\n",
      "v5_applitude_r_wave             6.433333e+00\n",
      "v5_applitude_s_wave            -3.366667e+00\n",
      "v5_applitude_r_sp_wave          6.444444e-01\n",
      "v5_applitude_s_sp_wave          0.000000e+00\n",
      "v5_applitude_p_wave             4.222222e-01\n",
      "v5_applitude_t_wave             8.888889e-01\n",
      "v5_qrsa                         2.212222e+01\n",
      "v5_qrsta                        3.573333e+01\n",
      "v6_applitude_jj_wave           -2.066667e+00\n",
      "v6_applitude_q_wave             0.000000e+00\n",
      "v6_applitude_r_wave             8.933333e+00\n",
      "v6_applitude_s_wave            -7.333333e-01\n",
      "v6_applitude_r_sp_wave          0.000000e+00\n",
      "v6_applitude_s_sp_wave          0.000000e+00\n",
      "v6_applitude_p_wave             4.888889e-01\n",
      "v6_applitude_t_wave            -1.733333e+00\n",
      "v6_qrsa                         5.287778e+01\n",
      "v6_qrsta                        3.105556e+01\n",
      "class                           9.000000e+00\n",
      "Length: 276, dtype: float64\n",
      "10 age                              3.892000e+01\n",
      "sex                              4.400000e-01\n",
      "height                           1.635200e+02\n",
      "weight                           6.330000e+01\n",
      "qrs_duration                     9.758000e+01\n",
      "pr_interval                      1.487400e+02\n",
      "qt_interval                      3.697600e+02\n",
      "t_interval                       1.693200e+02\n",
      "p_interval                       9.118000e+01\n",
      "vector_qrs                       3.198000e+01\n",
      "heart_rate                      1.512747e+100\n",
      "di_q_wave                        7.360000e+00\n",
      "di_r_wave                        4.616000e+01\n",
      "di_s_wave                        3.680000e+01\n",
      "di_r_sp_wave                     0.000000e+00\n",
      "di_s_sp_wave                     0.000000e+00\n",
      "di_intrisic_deflections          2.840000e+01\n",
      "di_existence_ragged_r_wave       0.000000e+00\n",
      "di_existence_diphasic_r_wave     0.000000e+00\n",
      "di_existence_ragged_p_wave       0.000000e+00\n",
      "di_existence_diphasic_p_wave     2.000000e-02\n",
      "di_existence_ragged_t_wave       0.000000e+00\n",
      "di_existence_diphasic_t_wave     2.000000e-02\n",
      "dii_q_wave                       3.600000e+00\n",
      "dii_r_wave                       4.864000e+01\n",
      "qii_s_wave                       3.872000e+01\n",
      "dii_r_sp_wave                    1.600000e-01\n",
      "dii_s_sp_wave                    1.120000e+00\n",
      "dii_intrisic_deflections         2.968000e+01\n",
      "dii_existence_ragged_r_wave      4.000000e-02\n",
      "                                    ...      \n",
      "v4_applitude_q_wave             -1.660000e-01\n",
      "v4_applitude_r_wave              1.378600e+01\n",
      "v4_applitude_s_wave             -7.300000e+00\n",
      "v4_applitude_r_sp_wave           5.400000e-02\n",
      "v4_applitude_s_sp_wave          -1.800000e-02\n",
      "v4_applitude_p_wave              5.180000e-01\n",
      "v4_applitude_t_wave              3.216000e+00\n",
      "v4_qrsa                          1.310000e+01\n",
      "v4_qrsta                         4.225600e+01\n",
      "v5_applitude_jj_wave            -1.600000e-01\n",
      "v5_applitude_q_wave             -3.360000e-01\n",
      "v5_applitude_r_wave              1.267000e+01\n",
      "v5_applitude_s_wave             -4.316000e+00\n",
      "v5_applitude_r_sp_wave           1.000000e-02\n",
      "v5_applitude_s_sp_wave           0.000000e+00\n",
      "v5_applitude_p_wave              5.020000e-01\n",
      "v5_applitude_t_wave              2.572000e+00\n",
      "v5_qrsa                          1.579000e+01\n",
      "v5_qrsta                         3.937000e+01\n",
      "v6_applitude_jj_wave            -1.520000e-01\n",
      "v6_applitude_q_wave             -3.860000e-01\n",
      "v6_applitude_r_wave              9.556000e+00\n",
      "v6_applitude_s_wave             -2.192000e+00\n",
      "v6_applitude_r_sp_wave           0.000000e+00\n",
      "v6_applitude_s_sp_wave           0.000000e+00\n",
      "v6_applitude_p_wave              4.700000e-01\n",
      "v6_applitude_t_wave              1.992000e+00\n",
      "v6_qrsa                          1.521000e+01\n",
      "v6_qrsta                         3.355000e+01\n",
      "class                            1.000000e+01\n",
      "Length: 276, dtype: float64\n",
      "14 age                             1.950000e+01\n",
      "sex                             2.500000e-01\n",
      "height                          1.560000e+02\n",
      "weight                          5.025000e+01\n",
      "qrs_duration                    9.925000e+01\n",
      "pr_interval                     1.637500e+02\n",
      "qt_interval                     3.617500e+02\n",
      "t_interval                      1.930000e+02\n",
      "p_interval                      9.900000e+01\n",
      "vector_qrs                      7.625000e+01\n",
      "vector_p                        1.315136e+07\n",
      "vector_qrst                     2.219279e+07\n",
      "heart_rate                      2.120985e+07\n",
      "di_q_wave                       0.000000e+00\n",
      "di_r_wave                       4.900000e+01\n",
      "di_s_wave                       2.800000e+01\n",
      "di_r_sp_wave                    0.000000e+00\n",
      "di_s_sp_wave                    0.000000e+00\n",
      "di_intrisic_deflections         2.600000e+01\n",
      "di_existence_ragged_r_wave      0.000000e+00\n",
      "di_existence_diphasic_r_wave    0.000000e+00\n",
      "di_existence_ragged_p_wave      0.000000e+00\n",
      "di_existence_diphasic_p_wave    0.000000e+00\n",
      "di_existence_ragged_t_wave      0.000000e+00\n",
      "di_existence_diphasic_t_wave    0.000000e+00\n",
      "dii_q_wave                      1.500000e+01\n",
      "dii_r_wave                      4.700000e+01\n",
      "qii_s_wave                      3.200000e+01\n",
      "dii_r_sp_wave                   0.000000e+00\n",
      "dii_s_sp_wave                   0.000000e+00\n",
      "                                    ...     \n",
      "v4_applitude_q_wave             0.000000e+00\n",
      "v4_applitude_r_wave             2.165000e+01\n",
      "v4_applitude_s_wave            -1.347500e+01\n",
      "v4_applitude_r_sp_wave          0.000000e+00\n",
      "v4_applitude_s_sp_wave          0.000000e+00\n",
      "v4_applitude_p_wave             6.500000e-01\n",
      "v4_applitude_t_wave             4.850000e+00\n",
      "v4_qrsa                         2.625000e+01\n",
      "v4_qrsta                        7.745000e+01\n",
      "v5_applitude_jj_wave           -3.500000e-01\n",
      "v5_applitude_q_wave            -4.750000e-01\n",
      "v5_applitude_r_wave             2.325000e+01\n",
      "v5_applitude_s_wave            -6.400000e+00\n",
      "v5_applitude_r_sp_wave          0.000000e+00\n",
      "v5_applitude_s_sp_wave          0.000000e+00\n",
      "v5_applitude_p_wave             8.000000e-01\n",
      "v5_applitude_t_wave             2.275000e+00\n",
      "v5_qrsa                         4.610000e+01\n",
      "v5_qrsta                        6.582500e+01\n",
      "v6_applitude_jj_wave           -6.500000e-01\n",
      "v6_applitude_q_wave            -8.000000e-01\n",
      "v6_applitude_r_wave             1.690000e+01\n",
      "v6_applitude_s_wave            -2.175000e+00\n",
      "v6_applitude_r_sp_wave          0.000000e+00\n",
      "v6_applitude_s_sp_wave          0.000000e+00\n",
      "v6_applitude_p_wave             6.250000e-01\n",
      "v6_applitude_t_wave             1.350000e+00\n",
      "v6_qrsa                         3.420000e+01\n",
      "v6_qrsta                        4.295000e+01\n",
      "class                           1.400000e+01\n",
      "Length: 278, dtype: float64\n"
     ]
    }
   ],
   "source": [
    "for key, val in describes.items():\n",
    "    print(key, val)"
   ]
  },
  {
   "cell_type": "code",
   "execution_count": 24,
   "metadata": {},
   "outputs": [
    {
     "name": "stdout",
     "output_type": "stream",
     "text": [
      "<class 'pandas.core.frame.DataFrame'>\n",
      "Int64Index: 68 entries, 2 to 450\n",
      "Columns: 280 entries, age to class\n",
      "dtypes: float64(120), int64(155), object(5)\n",
      "memory usage: 149.3+ KB\n"
     ]
    }
   ],
   "source": [
    "arrhythmia_data.info()"
   ]
  },
  {
   "cell_type": "code",
   "execution_count": 25,
   "metadata": {},
   "outputs": [],
   "source": [
    "y = arrhythmia_data['class']"
   ]
  },
  {
   "cell_type": "code",
   "execution_count": 29,
   "metadata": {},
   "outputs": [
    {
     "data": {
      "text/plain": [
       "array([10,  1,  2, 16,  9,  5,  6, 14,  3,  8,  4], dtype=int64)"
      ]
     },
     "execution_count": 29,
     "metadata": {},
     "output_type": "execute_result"
    }
   ],
   "source": [
    "y.unique()"
   ]
  },
  {
   "cell_type": "code",
   "execution_count": 26,
   "metadata": {},
   "outputs": [
    {
     "data": {
      "text/plain": [
       "count    68.000000\n",
       "mean      4.897059\n",
       "std       4.584659\n",
       "min       1.000000\n",
       "25%       1.000000\n",
       "50%       2.000000\n",
       "75%       9.000000\n",
       "max      16.000000\n",
       "Name: class, dtype: float64"
      ]
     },
     "execution_count": 26,
     "metadata": {},
     "output_type": "execute_result"
    }
   ],
   "source": [
    "y.describe()"
   ]
  },
  {
   "cell_type": "code",
   "execution_count": 95,
   "metadata": {},
   "outputs": [],
   "source": [
    "X_raw = arrhythmia_data.loc[:, features].values"
   ]
  },
  {
   "cell_type": "code",
   "execution_count": 96,
   "metadata": {},
   "outputs": [
    {
     "data": {
      "text/plain": [
       "array([[ 75. ,   0. , 190. , ...,  23.3,  49.4,   8. ],\n",
       "       [ 56. ,   1. , 165. , ...,  20.4,  38.8,   6. ],\n",
       "       [ 54. ,   0. , 172. , ...,  12.3,  49. ,  10. ],\n",
       "       ...,\n",
       "       [ 36. ,   0. , 166. , ..., -44.2, -33.2,   2. ],\n",
       "       [ 32. ,   1. , 155. , ...,  25. ,  46.6,   1. ],\n",
       "       [ 78. ,   1. , 160. , ...,  21.3,  32.8,   1. ]])"
      ]
     },
     "execution_count": 96,
     "metadata": {},
     "output_type": "execute_result"
    }
   ],
   "source": [
    "X.view()"
   ]
  },
  {
   "cell_type": "code",
   "execution_count": 97,
   "metadata": {},
   "outputs": [
    {
     "ename": "TypeError",
     "evalue": "'numpy.dtype' object is not callable",
     "output_type": "error",
     "traceback": [
      "\u001b[1;31m---------------------------------------------------------------------------\u001b[0m",
      "\u001b[1;31mTypeError\u001b[0m                                 Traceback (most recent call last)",
      "\u001b[1;32m<ipython-input-97-fb0707aecdf8>\u001b[0m in \u001b[0;36m<module>\u001b[1;34m()\u001b[0m\n\u001b[1;32m----> 1\u001b[1;33m \u001b[0mX\u001b[0m \u001b[1;33m=\u001b[0m \u001b[0mX\u001b[0m\u001b[1;33m.\u001b[0m\u001b[0mdtype\u001b[0m\u001b[1;33m(\u001b[0m\u001b[0mnp\u001b[0m\u001b[1;33m.\u001b[0m\u001b[0mfloat64\u001b[0m\u001b[1;33m)\u001b[0m\u001b[1;33m\u001b[0m\u001b[0m\n\u001b[0m",
      "\u001b[1;31mTypeError\u001b[0m: 'numpy.dtype' object is not callable"
     ]
    }
   ],
   "source": [
    "X = X.astype(np.float64)"
   ]
  },
  {
   "cell_type": "code",
   "execution_count": 93,
   "metadata": {},
   "outputs": [
    {
     "data": {
      "text/plain": [
       "numpy.ndarray"
      ]
     },
     "execution_count": 93,
     "metadata": {},
     "output_type": "execute_result"
    }
   ],
   "source": [
    "type(X)"
   ]
  },
  {
   "cell_type": "code",
   "execution_count": 87,
   "metadata": {},
   "outputs": [
    {
     "ename": "ValueError",
     "evalue": "Input contains NaN, infinity or a value too large for dtype('float64').",
     "output_type": "error",
     "traceback": [
      "\u001b[1;31m---------------------------------------------------------------------------\u001b[0m",
      "\u001b[1;31mValueError\u001b[0m                                Traceback (most recent call last)",
      "\u001b[1;32m<ipython-input-87-c4b8fb8684e9>\u001b[0m in \u001b[0;36m<module>\u001b[1;34m()\u001b[0m\n\u001b[1;32m----> 1\u001b[1;33m \u001b[0mX\u001b[0m \u001b[1;33m=\u001b[0m \u001b[0mStandardScaler\u001b[0m\u001b[1;33m(\u001b[0m\u001b[1;33m)\u001b[0m\u001b[1;33m.\u001b[0m\u001b[0mfit_transform\u001b[0m\u001b[1;33m(\u001b[0m\u001b[0mX\u001b[0m\u001b[1;33m)\u001b[0m\u001b[1;33m\u001b[0m\u001b[0m\n\u001b[0m",
      "\u001b[1;32m~\\Anaconda3\\lib\\site-packages\\sklearn\\base.py\u001b[0m in \u001b[0;36mfit_transform\u001b[1;34m(self, X, y, **fit_params)\u001b[0m\n\u001b[0;32m    515\u001b[0m         \u001b[1;32mif\u001b[0m \u001b[0my\u001b[0m \u001b[1;32mis\u001b[0m \u001b[1;32mNone\u001b[0m\u001b[1;33m:\u001b[0m\u001b[1;33m\u001b[0m\u001b[0m\n\u001b[0;32m    516\u001b[0m             \u001b[1;31m# fit method of arity 1 (unsupervised transformation)\u001b[0m\u001b[1;33m\u001b[0m\u001b[1;33m\u001b[0m\u001b[0m\n\u001b[1;32m--> 517\u001b[1;33m             \u001b[1;32mreturn\u001b[0m \u001b[0mself\u001b[0m\u001b[1;33m.\u001b[0m\u001b[0mfit\u001b[0m\u001b[1;33m(\u001b[0m\u001b[0mX\u001b[0m\u001b[1;33m,\u001b[0m \u001b[1;33m**\u001b[0m\u001b[0mfit_params\u001b[0m\u001b[1;33m)\u001b[0m\u001b[1;33m.\u001b[0m\u001b[0mtransform\u001b[0m\u001b[1;33m(\u001b[0m\u001b[0mX\u001b[0m\u001b[1;33m)\u001b[0m\u001b[1;33m\u001b[0m\u001b[0m\n\u001b[0m\u001b[0;32m    518\u001b[0m         \u001b[1;32melse\u001b[0m\u001b[1;33m:\u001b[0m\u001b[1;33m\u001b[0m\u001b[0m\n\u001b[0;32m    519\u001b[0m             \u001b[1;31m# fit method of arity 2 (supervised transformation)\u001b[0m\u001b[1;33m\u001b[0m\u001b[1;33m\u001b[0m\u001b[0m\n",
      "\u001b[1;32m~\\Anaconda3\\lib\\site-packages\\sklearn\\preprocessing\\data.py\u001b[0m in \u001b[0;36mfit\u001b[1;34m(self, X, y)\u001b[0m\n\u001b[0;32m    588\u001b[0m         \u001b[1;31m# Reset internal state before fitting\u001b[0m\u001b[1;33m\u001b[0m\u001b[1;33m\u001b[0m\u001b[0m\n\u001b[0;32m    589\u001b[0m         \u001b[0mself\u001b[0m\u001b[1;33m.\u001b[0m\u001b[0m_reset\u001b[0m\u001b[1;33m(\u001b[0m\u001b[1;33m)\u001b[0m\u001b[1;33m\u001b[0m\u001b[0m\n\u001b[1;32m--> 590\u001b[1;33m         \u001b[1;32mreturn\u001b[0m \u001b[0mself\u001b[0m\u001b[1;33m.\u001b[0m\u001b[0mpartial_fit\u001b[0m\u001b[1;33m(\u001b[0m\u001b[0mX\u001b[0m\u001b[1;33m,\u001b[0m \u001b[0my\u001b[0m\u001b[1;33m)\u001b[0m\u001b[1;33m\u001b[0m\u001b[0m\n\u001b[0m\u001b[0;32m    591\u001b[0m \u001b[1;33m\u001b[0m\u001b[0m\n\u001b[0;32m    592\u001b[0m     \u001b[1;32mdef\u001b[0m \u001b[0mpartial_fit\u001b[0m\u001b[1;33m(\u001b[0m\u001b[0mself\u001b[0m\u001b[1;33m,\u001b[0m \u001b[0mX\u001b[0m\u001b[1;33m,\u001b[0m \u001b[0my\u001b[0m\u001b[1;33m=\u001b[0m\u001b[1;32mNone\u001b[0m\u001b[1;33m)\u001b[0m\u001b[1;33m:\u001b[0m\u001b[1;33m\u001b[0m\u001b[0m\n",
      "\u001b[1;32m~\\Anaconda3\\lib\\site-packages\\sklearn\\preprocessing\\data.py\u001b[0m in \u001b[0;36mpartial_fit\u001b[1;34m(self, X, y)\u001b[0m\n\u001b[0;32m    610\u001b[0m         \"\"\"\n\u001b[0;32m    611\u001b[0m         X = check_array(X, accept_sparse=('csr', 'csc'), copy=self.copy,\n\u001b[1;32m--> 612\u001b[1;33m                         warn_on_dtype=True, estimator=self, dtype=FLOAT_DTYPES)\n\u001b[0m\u001b[0;32m    613\u001b[0m \u001b[1;33m\u001b[0m\u001b[0m\n\u001b[0;32m    614\u001b[0m         \u001b[1;31m# Even in the case of `with_mean=False`, we update the mean anyway\u001b[0m\u001b[1;33m\u001b[0m\u001b[1;33m\u001b[0m\u001b[0m\n",
      "\u001b[1;32m~\\Anaconda3\\lib\\site-packages\\sklearn\\utils\\validation.py\u001b[0m in \u001b[0;36mcheck_array\u001b[1;34m(array, accept_sparse, dtype, order, copy, force_all_finite, ensure_2d, allow_nd, ensure_min_samples, ensure_min_features, warn_on_dtype, estimator)\u001b[0m\n\u001b[0;32m    451\u001b[0m                              % (array.ndim, estimator_name))\n\u001b[0;32m    452\u001b[0m         \u001b[1;32mif\u001b[0m \u001b[0mforce_all_finite\u001b[0m\u001b[1;33m:\u001b[0m\u001b[1;33m\u001b[0m\u001b[0m\n\u001b[1;32m--> 453\u001b[1;33m             \u001b[0m_assert_all_finite\u001b[0m\u001b[1;33m(\u001b[0m\u001b[0marray\u001b[0m\u001b[1;33m)\u001b[0m\u001b[1;33m\u001b[0m\u001b[0m\n\u001b[0m\u001b[0;32m    454\u001b[0m \u001b[1;33m\u001b[0m\u001b[0m\n\u001b[0;32m    455\u001b[0m     \u001b[0mshape_repr\u001b[0m \u001b[1;33m=\u001b[0m \u001b[0m_shape_repr\u001b[0m\u001b[1;33m(\u001b[0m\u001b[0marray\u001b[0m\u001b[1;33m.\u001b[0m\u001b[0mshape\u001b[0m\u001b[1;33m)\u001b[0m\u001b[1;33m\u001b[0m\u001b[0m\n",
      "\u001b[1;32m~\\Anaconda3\\lib\\site-packages\\sklearn\\utils\\validation.py\u001b[0m in \u001b[0;36m_assert_all_finite\u001b[1;34m(X)\u001b[0m\n\u001b[0;32m     42\u001b[0m             and not np.isfinite(X).all()):\n\u001b[0;32m     43\u001b[0m         raise ValueError(\"Input contains NaN, infinity\"\n\u001b[1;32m---> 44\u001b[1;33m                          \" or a value too large for %r.\" % X.dtype)\n\u001b[0m\u001b[0;32m     45\u001b[0m \u001b[1;33m\u001b[0m\u001b[0m\n\u001b[0;32m     46\u001b[0m \u001b[1;33m\u001b[0m\u001b[0m\n",
      "\u001b[1;31mValueError\u001b[0m: Input contains NaN, infinity or a value too large for dtype('float64')."
     ]
    }
   ],
   "source": [
    "X = StandardScaler().fit_transform(X)"
   ]
  },
  {
   "cell_type": "code",
   "execution_count": 10,
   "metadata": {},
   "outputs": [
    {
     "data": {
      "text/plain": [
       "array([[ 1.09706398, -2.07333501,  1.26993369, ...,  2.29607613,\n",
       "         2.75062224,  1.93701461],\n",
       "       [ 1.82982061, -0.35363241,  1.68595471, ...,  1.0870843 ,\n",
       "        -0.24388967,  0.28118999],\n",
       "       [ 1.57988811,  0.45618695,  1.56650313, ...,  1.95500035,\n",
       "         1.152255  ,  0.20139121],\n",
       "       ...,\n",
       "       [ 0.70228425,  2.0455738 ,  0.67267578, ...,  0.41406869,\n",
       "        -1.10454895, -0.31840916],\n",
       "       [ 1.83834103,  2.33645719,  1.98252415, ...,  2.28998549,\n",
       "         1.91908301,  2.21963528],\n",
       "       [-1.80840125,  1.22179204, -1.81438851, ..., -1.74506282,\n",
       "        -0.04813821, -0.75120669]])"
      ]
     },
     "execution_count": 10,
     "metadata": {},
     "output_type": "execute_result"
    }
   ],
   "source": [
    "X.view()"
   ]
  },
  {
   "cell_type": "code",
   "execution_count": 11,
   "metadata": {},
   "outputs": [],
   "source": [
    "X_train, X_test, y_train, y_test = train_test_split(X, y, test_size=0.2, random_state=0)"
   ]
  },
  {
   "cell_type": "markdown",
   "metadata": {},
   "source": [
    "### KNN  .95"
   ]
  },
  {
   "cell_type": "code",
   "execution_count": 12,
   "metadata": {},
   "outputs": [],
   "source": [
    "pca = PCA(.98)"
   ]
  },
  {
   "cell_type": "code",
   "execution_count": 13,
   "metadata": {},
   "outputs": [],
   "source": [
    "knn = KNeighborsClassifier(n_neighbors=1)"
   ]
  },
  {
   "cell_type": "code",
   "execution_count": 14,
   "metadata": {},
   "outputs": [],
   "source": [
    "X_train = pca.fit_transform(X_train)"
   ]
  },
  {
   "cell_type": "code",
   "execution_count": 15,
   "metadata": {},
   "outputs": [],
   "source": [
    "X_test = pca.transform(X_test)"
   ]
  },
  {
   "cell_type": "code",
   "execution_count": 16,
   "metadata": {},
   "outputs": [
    {
     "data": {
      "text/plain": [
       "array([0.43766898, 0.19696535, 0.09338516, 0.06530513, 0.05617859,\n",
       "       0.0408935 , 0.02154313, 0.01468355, 0.01398112, 0.01141615,\n",
       "       0.01004861, 0.00866833, 0.00750844, 0.00540331])"
      ]
     },
     "execution_count": 16,
     "metadata": {},
     "output_type": "execute_result"
    }
   ],
   "source": [
    "pca.explained_variance_ratio_"
   ]
  },
  {
   "cell_type": "code",
   "execution_count": 17,
   "metadata": {},
   "outputs": [
    {
     "data": {
      "text/plain": [
       "KNeighborsClassifier(algorithm='auto', leaf_size=30, metric='minkowski',\n",
       "           metric_params=None, n_jobs=1, n_neighbors=1, p=2,\n",
       "           weights='uniform')"
      ]
     },
     "execution_count": 17,
     "metadata": {},
     "output_type": "execute_result"
    }
   ],
   "source": [
    "knn.fit(X_train, y_train)"
   ]
  },
  {
   "cell_type": "code",
   "execution_count": 18,
   "metadata": {},
   "outputs": [],
   "source": [
    "y_pred = knn.predict(X_test)"
   ]
  },
  {
   "cell_type": "code",
   "execution_count": 19,
   "metadata": {},
   "outputs": [
    {
     "data": {
      "text/plain": [
       "0.956140350877193"
      ]
     },
     "execution_count": 19,
     "metadata": {},
     "output_type": "execute_result"
    }
   ],
   "source": [
    "accuracy_score(y_test, y_pred)"
   ]
  },
  {
   "cell_type": "markdown",
   "metadata": {},
   "source": [
    "### KNN original dataset"
   ]
  },
  {
   "cell_type": "code",
   "execution_count": 20,
   "metadata": {},
   "outputs": [],
   "source": [
    "X_train_od, X_test_od, y_train_od, y_test_od = train_test_split(x, y, test_size=0.2, random_state=0)"
   ]
  },
  {
   "cell_type": "code",
   "execution_count": 21,
   "metadata": {},
   "outputs": [
    {
     "data": {
      "text/plain": [
       "array([[-1.15800874, -0.40948202, -1.1351621 , ..., -0.75548625,\n",
       "        -0.01092926, -0.40485783],\n",
       "       [-0.94499809,  0.62606285, -0.95474903, ..., -0.605352  ,\n",
       "         0.10393316, -0.40596615],\n",
       "       [ 0.57163772, -1.03080894,  0.50791498, ..., -0.02597997,\n",
       "        -0.19859181, -0.76616896],\n",
       "       ...,\n",
       "       [-1.33239345, -0.22564372, -1.32422512, ..., -0.97581512,\n",
       "        -0.72275273, -0.14329518],\n",
       "       [-1.25173342, -0.24891439, -1.28674204, ..., -1.74506282,\n",
       "        -1.60444316, -1.01720262],\n",
       "       [-0.74334801,  1.07984094, -0.71872918, ..., -0.27523937,\n",
       "        -1.2760337 ,  0.1869831 ]])"
      ]
     },
     "execution_count": 21,
     "metadata": {},
     "output_type": "execute_result"
    }
   ],
   "source": [
    "X_train_od.view()"
   ]
  },
  {
   "cell_type": "code",
   "execution_count": 22,
   "metadata": {},
   "outputs": [
    {
     "data": {
      "text/plain": [
       "KNeighborsClassifier(algorithm='auto', leaf_size=30, metric='minkowski',\n",
       "           metric_params=None, n_jobs=1, n_neighbors=1, p=2,\n",
       "           weights='uniform')"
      ]
     },
     "execution_count": 22,
     "metadata": {},
     "output_type": "execute_result"
    }
   ],
   "source": [
    "knn.fit(X_train_od, y_train_od)"
   ]
  },
  {
   "cell_type": "code",
   "execution_count": 23,
   "metadata": {},
   "outputs": [],
   "source": [
    "y_pred_od = knn.predict(X_test_od)"
   ]
  },
  {
   "cell_type": "code",
   "execution_count": 24,
   "metadata": {},
   "outputs": [
    {
     "data": {
      "text/plain": [
       "0.9385964912280702"
      ]
     },
     "execution_count": 24,
     "metadata": {},
     "output_type": "execute_result"
    }
   ],
   "source": [
    "accuracy_score(y_test_od, y_pred_od)"
   ]
  },
  {
   "cell_type": "code",
   "execution_count": null,
   "metadata": {},
   "outputs": [],
   "source": []
  }
 ],
 "metadata": {
  "kernelspec": {
   "display_name": "Python 3",
   "language": "python",
   "name": "python3"
  },
  "language_info": {
   "codemirror_mode": {
    "name": "ipython",
    "version": 3
   },
   "file_extension": ".py",
   "mimetype": "text/x-python",
   "name": "python",
   "nbconvert_exporter": "python",
   "pygments_lexer": "ipython3",
   "version": "3.5.6"
  }
 },
 "nbformat": 4,
 "nbformat_minor": 2
}
